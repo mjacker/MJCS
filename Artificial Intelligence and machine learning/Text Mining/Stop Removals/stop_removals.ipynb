{
 "cells": [
  {
   "cell_type": "code",
   "execution_count": 1,
   "metadata": {},
   "outputs": [
    {
     "name": "stdout",
     "output_type": "stream",
     "text": [
      "This program display and count how many stop words has those libraries:\n",
      "# Method 1 - NLTK: \n",
      "['i', 'me', 'my', 'myself', 'we', 'our', 'ours', 'ourselves', 'you', \"you're\", \"you've\", \"you'll\", \"you'd\", 'your', 'yours', 'yourself', 'yourselves', 'he', 'him', 'his', 'himself', 'she', \"she's\", 'her', 'hers', 'herself', 'it', \"it's\", 'its', 'itself', 'they', 'them', 'their', 'theirs', 'themselves', 'what', 'which', 'who', 'whom', 'this', 'that', \"that'll\", 'these', 'those', 'am', 'is', 'are', 'was', 'were', 'be', 'been', 'being', 'have', 'has', 'had', 'having', 'do', 'does', 'did', 'doing', 'a', 'an', 'the', 'and', 'but', 'if', 'or', 'because', 'as', 'until', 'while', 'of', 'at', 'by', 'for', 'with', 'about', 'against', 'between', 'into', 'through', 'during', 'before', 'after', 'above', 'below', 'to', 'from', 'up', 'down', 'in', 'out', 'on', 'off', 'over', 'under', 'again', 'further', 'then', 'once', 'here', 'there', 'when', 'where', 'why', 'how', 'all', 'any', 'both', 'each', 'few', 'more', 'most', 'other', 'some', 'such', 'no', 'nor', 'not', 'only', 'own', 'same', 'so', 'than', 'too', 'very', 's', 't', 'can', 'will', 'just', 'don', \"don't\", 'should', \"should've\", 'now', 'd', 'll', 'm', 'o', 're', 've', 'y', 'ain', 'aren', \"aren't\", 'couldn', \"couldn't\", 'didn', \"didn't\", 'doesn', \"doesn't\", 'hadn', \"hadn't\", 'hasn', \"hasn't\", 'haven', \"haven't\", 'isn', \"isn't\", 'ma', 'mightn', \"mightn't\", 'mustn', \"mustn't\", 'needn', \"needn't\", 'shan', \"shan't\", 'shouldn', \"shouldn't\", 'wasn', \"wasn't\", 'weren', \"weren't\", 'won', \"won't\", 'wouldn', \"wouldn't\"]\n",
      "There are 179 words.\n"
     ]
    }
   ],
   "source": [
    "print(\"This program display and count how many stop words has those libraries:\")\n",
    "\n",
    "print(\"# Method 1 - NLTK: \")\n",
    "import nltk\n",
    "from nltk.corpus import stopwords\n",
    "stopwords = stopwords.words('english')\n",
    "print(stopwords)\n",
    "\n",
    "len_stopwords = len(stopwords)\n",
    "print(f\"There are {len_stopwords} words.\")\n",
    "\n",
    "\n"
   ]
  },
  {
   "cell_type": "code",
   "execution_count": 3,
   "metadata": {},
   "outputs": [
    {
     "name": "stdout",
     "output_type": "stream",
     "text": [
      "\n",
      "# Method 2 - Spacy: \n",
      " does not working.\n",
      "{'almost', 'too', 'name', 'everything', 'whole', 'after', 'moreover', 'cannot', 'when', 'because', 'i', 'this', 'more', 'anywhere', 'each', 'less', 'whoever', 'at', 'will', 'who', 'onto', 'indeed', 'hereafter', 'herself', 'during', 'whose', 'anyway', 'n‘t', '‘s', 'anyone', 'move', 'own', 'with', 'my', 'yourself', 'others', 'somewhere', 'least', 'whereafter', 'latterly', 'rather', 'still', 'thru', 'would', 'though', 'therein', 'various', 'herein', 'sixty', 'thereupon', 'never', '’ve', 'fifty', 'part', 'ours', 'she', 'out', 'unless', 'yourselves', \"'re\", 'on', '‘ve', 'them', 'well', 'where', '’s', '’ll', 'yet', '‘d', 'in', 'made', 'done', 'along', 'whereas', 'something', 'side', 'was', 'do', 'become', 'only', 'of', 'around', 'from', 'many', 'must', 'go', '’re', 'we', 'both', 'due', 'keep', 'here', 'through', '‘ll', 'before', 'among', 'none', 'throughout', 'nothing', 'anyhow', 'afterwards', 'by', 'nine', 'wherever', 'is', 'so', 'regarding', 'amount', 'been', 'up', 'becoming', 'beforehand', 'first', 'most', 'mine', 'its', 'former', 'hereupon', 'one', 'whether', 'together', 'but', 'make', 'became', 'often', 'the', 'above', 'few', 'below', 'therefore', 'other', 'three', 'twelve', 'front', 'he', 'put', 'besides', 'much', 'third', 'next', 'what', 'may', 'whatever', 'take', \"n't\", 'ourselves', 'behind', 'there', 'back', 'have', 'else', 'can', 'into', 'myself', 'seem', 'an', 'even', 'if', 'n’t', 'get', 'for', 'fifteen', 'such', 'nowhere', 'twenty', 'please', 'mostly', 'empty', 'had', 'should', 'anything', 'everywhere', 'everyone', 'nevertheless', 'eight', 'nobody', 'which', 'across', 'thereafter', 'very', 'seems', '’d', 'about', 'toward', 'five', 'full', 'say', 'thus', 'how', 'elsewhere', 'upon', 'perhaps', 'either', 'could', 'now', 'no', 'am', 'seemed', 'themselves', 'us', 'enough', 'hers', 'beside', 'without', 'to', 'down', 'be', 'amongst', 'ca', 'until', 'their', 'under', 'every', 'that', 'thence', 'him', 'per', 'eleven', 'via', 'someone', 'alone', 'meanwhile', 'nor', 'seeming', 'any', 'whenever', 'same', 'formerly', 'quite', 'they', 'over', 'you', 'as', 'once', 'not', 'off', 'thereby', 'used', 'otherwise', 'and', 'our', 'while', 'being', \"'ll\", 'further', 'noone', 'towards', 'itself', 'four', 'several', 'me', 'his', 'however', 'has', 'ever', 'bottom', \"'s\", 're', 'sometime', 'using', 'always', 'then', 'himself', 'top', \"'ve\", 'show', 'namely', 'becomes', 'why', 'latter', 'does', 'somehow', 'against', 'your', 'within', 'call', 'serious', 'ten', 'except', 'these', 'since', 'yours', 'whence', 'those', 'some', 'again', 'hence', 'did', 'it', 'are', 'whom', 'already', 'neither', 'hereby', 'whereby', 'or', 'two', 'all', 'doing', 'her', 'were', 'whereupon', 'another', 'a', \"'d\", 'than', 'beyond', 'give', 'six', 'forty', 'between', 'wherein', \"'m\", 'also', '’m', 'although', 'last', '‘re', 'might', 'sometimes', 'whither', 'really', 'hundred', 'see', 'just', '‘m'}\n",
      "There are 326 words.\n"
     ]
    }
   ],
   "source": [
    "print(\"\\n# Method 2 - Spacy: \")\n",
    "print(\" does not working.\")\n",
    "import spacy\n",
    "from spacy.lang.en import stop_words\n",
    "\n",
    "stop_words = stop_words.STOP_WORDS\n",
    "\n",
    "\n",
    "print(stop_words)\n",
    "print(f\"There are {len(stop_words)} words.\")\n"
   ]
  },
  {
   "cell_type": "code",
   "execution_count": 4,
   "metadata": {},
   "outputs": [
    {
     "name": "stdout",
     "output_type": "stream",
     "text": [
      "\n",
      "# Method3 - Gensim: \n",
      "frozenset({'almost', 'too', 'name', 'everything', 'whole', 'after', 'moreover', 'cannot', 'when', 'because', 'i', 'this', 'more', 'anywhere', 'each', 'less', 'whoever', 'will', 'at', 'who', 'onto', 'indeed', 'hereafter', 'herself', 'whose', 'during', 'anyway', 'move', 'anyone', 'own', 'with', 'my', 'yourself', 'others', 'somewhere', 'least', 'etc', 'whereafter', 'latterly', 'rather', 'still', 'thru', 'would', 'though', 'ie', 'therein', 'various', 'herein', 'sixty', 'thereupon', 'never', 'fifty', 'part', 'ours', 'she', 'yourselves', 'out', 'unless', 'bill', 'on', 'them', 'well', 'where', 'yet', 'in', 'made', 'cry', 'done', 'along', 'whereas', 'something', 'side', 'was', 'do', 'become', 'only', 'of', 'around', 'many', 'from', 'must', 'go', 'we', 'both', 'due', 'keep', 'here', 'through', 'before', 'among', 'none', 'throughout', 'nothing', 'anyhow', 'couldnt', 'afterwards', 'by', 'sincere', 'nine', 'wherever', 'is', 'so', 'regarding', 'amount', 'been', 'up', 'becoming', 'don', 'beforehand', 'detail', 'first', 'thin', 'most', 'mine', 'its', 'hasnt', 'former', 'hereupon', 'one', 'together', 'whether', 'but', 'make', 'became', 'found', 'often', 'the', 'above', 'few', 'below', 'therefore', 'three', 'twelve', 'other', 'front', 'he', 'cant', 'put', 'besides', 'much', 'third', 'next', 'what', 'whatever', 'may', 'take', 'ourselves', 'behind', 'ltd', 'there', 'back', 'have', 'into', 'else', 'myself', 'can', 'seem', 'an', 'find', 'even', 'if', 'get', 'for', 'fifteen', 'such', 'nowhere', 'twenty', 'please', 'mostly', 'km', 'fill', 'had', 'should', 'empty', 'anything', 'everywhere', 'everyone', 'nevertheless', 'eight', 'which', 'nobody', 'across', 'didn', 'thereafter', 'very', 'seems', 'un', 'about', 'de', 'toward', 'five', 'kg', 'full', 'say', 'thus', 'how', 'elsewhere', 'upon', 'perhaps', 'either', 'now', 'could', 'no', 'am', 'seemed', 'themselves', 'co', 'us', 'enough', 'hers', 'beside', 'without', 'to', 'down', 'be', 'amongst', 'until', 'their', 'under', 'every', 'that', 'thence', 'him', 'per', 'eleven', 'via', 'someone', 'alone', 'meanwhile', 'nor', 'seeming', 'eg', 'con', 'any', 'whenever', 'same', 'formerly', 'quite', 'they', 'over', 'you', 'as', 'once', 'not', 'off', 'used', 'thereby', 'otherwise', 'and', 'our', 'while', 'mill', 'being', 'further', 'noone', 'towards', 'itself', 'four', 'several', 'me', 'his', 'however', 'has', 'ever', 'bottom', 're', 'sometime', 'using', 'always', 'then', 'himself', 'top', 'amoungst', 'show', 'namely', 'interest', 'becomes', 'system', 'why', 'latter', 'describe', 'doesn', 'does', 'somehow', 'against', 'your', 'within', 'call', 'serious', 'ten', 'except', 'these', 'since', 'yours', 'whence', 'those', 'some', 'again', 'hence', 'did', 'it', 'are', 'whom', 'computer', 'already', 'thick', 'neither', 'hereby', 'whereby', 'or', 'two', 'all', 'inc', 'doing', 'her', 'were', 'whereupon', 'another', 'a', 'fire', 'than', 'beyond', 'give', 'six', 'forty', 'between', 'wherein', 'also', 'although', 'last', 'might', 'sometimes', 'whither', 'really', 'hundred', 'see', 'just'})\n",
      "There are 337 words.\n"
     ]
    }
   ],
   "source": [
    "print(\"\\n# Method3 - Gensim: \")\n",
    "import gensim\n",
    "from gensim.parsing.preprocessing import remove_stopwords, STOPWORDS\n",
    "print(STOPWORDS)\n",
    "print(f\"There are {len(STOPWORDS)} words.\")\n"
   ]
  }
 ],
 "metadata": {
  "kernelspec": {
   "display_name": "Python 3",
   "language": "python",
   "name": "python3"
  },
  "language_info": {
   "codemirror_mode": {
    "name": "ipython",
    "version": 3
   },
   "file_extension": ".py",
   "mimetype": "text/x-python",
   "name": "python",
   "nbconvert_exporter": "python",
   "pygments_lexer": "ipython3",
   "version": "3.9.16"
  },
  "orig_nbformat": 4
 },
 "nbformat": 4,
 "nbformat_minor": 2
}
